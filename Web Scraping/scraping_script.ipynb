{
 "cells": [
  {
   "cell_type": "code",
   "execution_count": 1,
   "metadata": {},
   "outputs": [],
   "source": [
    "import requests\n",
    "from bs4 import BeautifulSoup\n",
    "import numpy as np\n",
    "import pandas as pd\n",
    "import time"
   ]
  },
  {
   "cell_type": "code",
   "execution_count": 2,
   "metadata": {},
   "outputs": [],
   "source": [
    "\n",
    "url = \"https://www.inshorts.com/en/read/\""
   ]
  },
  {
   "cell_type": "code",
   "execution_count": 3,
   "metadata": {},
   "outputs": [
    {
     "output_type": "execute_result",
     "data": {
      "text/plain": [
       "200"
      ]
     },
     "metadata": {},
     "execution_count": 3
    }
   ],
   "source": [
    "# Request\n",
    "page = requests.get(url)\n",
    "page.status_code"
   ]
  },
  {
   "cell_type": "code",
   "execution_count": 4,
   "metadata": {},
   "outputs": [
    {
     "output_type": "execute_result",
     "data": {
      "text/plain": [
       "temscope=\"itemscope\" itemtype=\"https://schema.org/Organization\">\\n        <span content=\"https://inshorts.com/\" itemprop=\"url\">\\n        </span>\\n        <span content=\"Inshorts\" itemprop=\"name\">\\n        </span>\\n        <span itemprop=\"logo\" itemscope=\"\" itemtype=\"https://schema.org/ImageObject\">\\n         <span content=\"https://assets.inshorts.com/inshorts/images/v1/variants/jpg/m/2018/11_nov/21_wed/img_1542823931298_497.jpg\" itemprop=\"url\">\\n         </span>\\n         <meta content=\"400\" itemprop=\"width\"/>\\n         <meta content=\"60\" itemprop=\"height\"/>\\n        </span>\\n       </span>\\n       <div class=\"news-card-image\" style=\"background-image: url(\\'https://static.inshorts.com/inshorts/images/v1/variants/jpg/m/2020/11_nov/26_thu/img_1606407827311_318.jpg?\\')\">\\n       </div>\\n       <div class=\"news-card-title news-right-box\">\\n        <a class=\"clickable\" href=\"/en/news/turkey-gives-f16-pilots-79-life-sentences-each-for-failed-2016-coup-1606410614763\" onclick=\"ga(\\'send\\', {\\'hitType\\': \\'event\\', \\'eventCategory\\': \\'TitleOfNews\\', \\'eventAction\\': \\'clicked\\', \\'eventLabel\\': \\'Turkey%20gives%20F-16%20pilots%2079%20life%20sentences%20each%20for%20failed%202016%20coup)\\' });\" style=\"color:#44444d!important\">\\n         <span itemprop=\"headline\">\\n          Turkey gives F-16 pilots 79 life sentences each for failed 2016 coup\\n         </span>\\n        </a>\\n        <div class=\"news-card-author-time news-card-author-time-in-title\">\\n         <a href=\"/prev/en/news/turkey-gives-f16-pilots-79-life-sentences-each-for-failed-2016-coup-1606410614763\">\\n          <span class=\"short\">\\n           short\\n          </span>\\n         </a>\\n         by\\n         <span class=\"author\">\\n          Shailesh\\n         </span>\\n         /\\n         <span class=\"time\" content=\"2020-11-26T17:10:14.000Z\" itemprop=\"datePublished\">\\n          10:40 pm\\n         </span>\\n         on\\n         <span clas=\"date\">\\n          26 Nov 2020,Thursday\\n         </span>\\n        </div>\\n       </div>\\n       <div class=\"news-card-content news-right-box\">\\n        <div itemprop=\"articleBody\">\\n         A Turkish court on Thursday sentenced 19 defendants, including F-16 fighter jet pilots, to 79 aggravated life sentences each for their role in the failed 2016 coup in Turkey. The pilots had carried out bombings on government buildings in capital Ankara during the attempted coup, a state media report said. Seventy people were acquitted, the report added.\\n        </div>\\n        <div class=\"news-card-author-time news-card-author-time-in-content\">\\n         <a href=\"/prev/en/news/turkey-gives-f16-pilots-79-life-sentences-each-for-failed-2016-coup-1606410614763\">\\n          <span class=\"short\">\\n           short\\n          </span>\\n         </a>\\n         by\\n         <span class=\"author\">\\n          Shailesh\\n         </span>\\n         /\\n         <span class=\"time\" content=\"2020-11-26T17:10:14.000Z\" itemprop=\"dateModified\">\\n          10:40 pm\\n         </span>\\n         on\\n         <span class=\"date\">\\n          26 Nov\\n         </span>\\n        </div>\\n       </div>\\n       <div class=\"news-card-footer news-right-box\">\\n        <div class=\"read-more\">\\n         read more at\\n         <a class=\"source\" href=\"https://mobile.reuters.com/article/amp/idUSKBN2860L6?utm_campaign=fullarticle&amp;utm_medium=referral&amp;utm_source=inshorts \" onclick=\"ga(\\'send\\', {\\'hitType\\': \\'event\\', \\'eventCategory\\': \\'ReadMore\\', \\'eventAction\\': \\'clicked\\', \\'eventLabel\\': \\'Reuters\\' });\" target=\"_blank\">\\n          Reuters\\n         </a>\\n        </div>\\n       </div>\\n      </div>\\n     </div>\\n     <div class=\"\">\\n      <div class=\"news-card z-depth-1\" itemscope=\"\" itemtype=\"http://schema.org/NewsArticle\">\\n       <span content=\"\" itemid=\"https://inshorts.com/en/news/danish-pm-in-tears-after-visiting-mink-farmer-whose-herd-was-culled-1606413423596\" itemprop=\"mainEntityOfPage\" itemscope=\"\" itemtype=\"https://schema.org/WebPage\">\\n       </span>\\n       <span itemprop=\"author\" itemscope=\"itemscope\" itemtype=\"https://schema.org/Person\">\\n        <span content=\"Shailesh\" itemprop=\"name\">\\n        </span>\\n       </span>\\n       <span content=\"Danish PM in tears after visiting mink farmer whose herd was culled\" itemprop=\"description\">\\n       </span>\\n       <span itemprop=\"image\" itemscope=\"\" itemtype=\"https://schema.org/ImageObject\">\\n        <meta content=\"https://static.inshorts.com/inshorts/images/v1/variants/jpg/m/2020/11_nov/26_thu/img_1606412080022_328.jpg?\" itemprop=\"url\"/>\\n        <meta content=\"864\" itemprop=\"width\"/>\\n        <meta content=\"483\" itemprop=\"height\"/>\\n       </span>\\n       <span itemprop=\"publisher\" itemscope=\"itemscope\" itemtype=\"https://schema.org/Organization\">\\n        <span content=\"https://inshorts.com/\" itemprop=\"url\">\\n        </span>\\n        <span content=\"Inshorts\" itemprop=\"name\">\\n        </span>\\n        <span itemprop=\"logo\" itemscope=\"\" itemtype=\"https://schema.org/ImageObject\">\\n         <span content=\"https://assets.inshorts.com/inshorts/images/v1/variants/jpg/m/2018/11_nov/21_wed/img_1542823931298_497.jpg\" itemprop=\"url\">\\n         </span>\\n         <meta content=\"400\" itemprop=\"width\"/>\\n         <meta content=\"60\" itemprop=\"height\"/>\\n        </span>\\n       </span>\\n       <div class=\"news-card-image\" style=\"background-image: url(\\'https://static.inshorts.com/inshorts/images/v1/variants/jpg/m/2020/11_nov/26_thu/img_1606412080022_328.jpg?\\')\">\\n       </div>\\n       <div class=\"news-card-title news-right-box\">\\n        <a class=\"clickable\" href=\"/en/news/danish-pm-in-tears-after-visiting-mink-farmer-whose-herd-was-culled-1606413423596\" onclick=\"ga(\\'send\\', {\\'hitType\\': \\'event\\', \\'eventCategory\\': \\'TitleOfNews\\', \\'eventAction\\': \\'clicked\\', \\'eventLabel\\': \\'Danish%20PM%20in%20tears%20after%20visiting%20mink%20farmer%20whose%20herd%20was%20culled)\\' });\" style=\"color:#44444d!important\">\\n         <span itemprop=\"headline\">\\n          Danish PM in tears after visiting mink farmer whose herd was culled\\n         </span>\\n        </a>\\n        <div class=\"news-card-author-time news-card-author-time-in-title\">\\n         <a href=\"/prev/en/news/danish-pm-in-tears-after-visiting-mink-farmer-whose-herd-was-culled-1606413423596\">\\n          <span class=\"short\">\\n           short\\n          </span>\\n         </a>\\n         by\\n         <span class=\"author\">\\n          Shailesh\\n         </span>\\n         /\\n         <span class=\"time\" content=\"2020-11-26T17:57:03.000Z\" itemprop=\"datePublished\">\\n          11:27 pm\\n         </span>\\n         on\\n         <span clas=\"date\">\\n          26 Nov 2020,Thursday\\n         </span>\\n        </div>\\n       </div>\\n       <div class=\"news-card-content news-right-box\">\\n        <div itemprop=\"articleBody\">\\n         Denmark\\'s PM Mette Frederiksen broke down after visiting a mink farmer who lost his herd as part of a nationwide cull ordered by the government this month. The cull was ordered after a mutated version of COVID-19 was found in them. \"We\\'ve two generations of...mink farmers...who in a very, very short time have had their life\\'s work shattered,\" she said.\\n        </div>\\n        <div class=\"news-card-author-time news-card-author-time-in-content\">\\n         <a href=\"/prev/en/news/danish-pm-in-tears-after-visiting-mink-farmer-whose-herd-was-culled-1606413423596\">\\n          <span class=\"short\">\\n           short\\n          </span>\\n         </a>\\n         by\\n         <span class=\"author\">\\n          Shailesh\\n         </span>\\n         /\\n         <span class=\"time\" content=\"2020-11-26T17:57:03.000Z\" itemprop=\"dateModified\">\\n          11:27 pm\\n         </span>\\n         on\\n         <span class=\"date\">\\n          26 Nov\\n         </span>\\n        </div>\\n       </div>\\n       <div class=\"news-card-footer news-right-box\">\\n        <div class=\"read-more\">\\n         read more at\\n         <a class=\"source\" href=\"https://mobile.reuters.com/article/amp/idUSKBN2861YM?utm_campaign=fullarticle&amp;utm_medium=referral&amp;utm_source=inshorts \" onclick=\"ga(\\'send\\', {\\'hitType\\': \\'event\\', \\'eventCategory\\': \\'ReadMore\\', \\'eventAction\\': \\'clicked\\', \\'eventLabel\\': \\'Reuters\\' });\" target=\"_blank\">\\n          Reuters\\n         </a>\\n        </div>\\n       </div>\\n      </div>\\n     </div>\\n     <div class=\"\">\\n      <div class=\"news-card z-depth-1\" itemscope=\"\" itemtype=\"http://schema.org/NewsArticle\">\\n       <span content=\"\" itemid=\"https://inshorts.com/en/news/ed-arrests-cox-kings-promoter-peter-kerkar-in-yes-bank-case-1606412992187\" itemprop=\"mainEntityOfPage\" itemscope=\"\" itemtype=\"https://schema.org/WebPage\">\\n       </span>\\n       <span itemprop=\"author\" itemscope=\"itemscope\" itemtype=\"https://schema.org/Person\">\\n        <span content=\"Kiran Khatri\" itemprop=\"name\">\\n        </span>\\n       </span>\\n       <span content=\"ED arrests Cox &amp; Kings promoter Peter Kerkar in Yes Bank case\" itemprop=\"description\">\\n       </span>\\n       <span itemprop=\"image\" itemscope=\"\" itemtype=\"https://schema.org/ImageObject\">\\n        <meta content=\"https://static.inshorts.com/inshorts/images/v1/variants/jpg/m/2020/11_nov/26_thu/img_1606410737133_845.jpg?\" itemprop=\"url\"/>\\n        <meta content=\"864\" itemprop=\"width\"/>\\n        <meta content=\"483\" itemprop=\"height\"/>\\n       </span>\\n       <span itemprop=\"publisher\" itemscope=\"itemscope\" itemtype=\"https://schema.org/Organization\">\\n        <span content=\"https://inshorts.com/\" itemprop=\"url\">\\n        </span>\\n        <span content=\"Inshorts\" itemprop=\"name\">\\n        </span>\\n        <span itemprop=\"logo\" itemscope=\"\" itemtype=\"https://schema.org/ImageObject\">\\n         <span content=\"https://assets.inshorts.com/inshorts/images/v1/variants/jpg/m/2018/11_nov/21_wed/img_1542823931298_497.jpg\" itemprop=\"url\">\\n         </span>\\n         <meta content=\"400\" itemprop=\"width\"/>\\n         <meta content=\"60\" itemprop=\"height\"/>\\n        </span>\\n       </span>\\n       <div class=\"news-card-image\" style=\"background-image: url(\\'https://static.inshorts.com/inshorts/images/v1/variants/jpg/m/2020/11_nov/26_thu/img_1606410737133_845.jpg?\\')\">\\n       </div>\\n       <div class=\"news-card-title news-right-box\">\\n        <a class=\"clickable\" href=\"/en/news/ed-arrests-cox-kings-promoter-peter-kerkar-in-yes-bank-case-1606412992187\" onclick=\"ga(\\'send\\', {\\'hitType\\': \\'event\\', \\'eventCategory\\': \\'TitleOfNews\\', \\'eventAction\\': \\'clicked\\', \\'eventLabel\\': \\'ED%20arrests%20Cox%20%26%20Kings%20promoter%20Peter%20Kerkar%20in%20Yes%20Bank%20case)\\' });\" style=\"color:#44444d!important\">\\n         <span itemprop=\"headline\">\\n          ED arrests Cox &amp; Kings promoter Peter Kerkar in Yes Bank case\\n         </span>\\n        </a>\\n        <div class=\"news-card-author-time news-card-author-time-in-title\">\\n         <a href=\"/prev/en/news/ed-arrests-cox-kings-promoter-peter-kerkar-in-yes-bank-case-1606412992187\">\\n          <span class=\"short\">\\n           short\\n          </span>\\n         </a>\\n         by\\n         <span class=\"author\">\\n          Kiran Khatri\\n         </span>\\n         /\\n         <span class=\"time\" content=\"2020-11-26T17:49:52.000Z\" itemprop=\"datePublished\">\\n          11:19 pm\\n         </span>\\n         on\\n         <span clas=\"date\">\\n          26 Nov 2020,Thursday\\n         </span>\\n        </div>\\n       </div>\\n       <div class=\"news-card-content news-right-box\">\\n        <div itemprop=\"articleBody\">\\n         The ED has arrested Cox &amp; Kings promoter Ajay Ajit Peter Kerkar in connection with the Yes Bank money laundering case. The company, which is one of the top borrowers of Yes Bank, owes ₹5,500 crore to several banks and non-banking financial institutions. Last month, the ED arrested Anil Khandelwal, former CFO of Cox &amp; Kings, in the case.\\n        </div>\\n        <div class=\"news-card-author-time news-card-author-time-in-content\">\\n         <a href=\"/prev/en/news/ed-arrests-cox-kings-promoter-peter-kerkar-in-yes-bank-case-1606412992187\">\\n          <span class=\"short\">\\n           short\\n          </span>\\n         </a>\\n         by\\n         <span class=\"author\">\\n          Kiran Khatri\\n         </span>\\n         /\\n         <span class=\"time\" content=\"2020-11-26T17:49:52.000Z\" itemprop=\"dateModified\">\\n          11:19 pm\\n         </span>\\n         on\\n         <span class=\"date\">\\n          26 Nov\\n         </span>\\n        </div>\\n       </div>\\n      </div>\\n     </div>\\n    </div>\\n    <div class=\"load-more-wrapper\">\\n     <div class=\"clickable unselectable load-more z-depth-1 hoverable\" id=\"load-more-btn\" onclick=\"loadMoreNews()\">\\n      Load More\\n     </div>\\n     <div class=\"clickable unselectable load-more\" id=\"load-more-gif\" style=\"display:none;\">\\n      <img id=\"load-more-gif\" src=\"https://assets.inshorts.com/website_assets/images/ajax-loader.gif\"/>\\n     </div>\\n    </div>\\n    <div class=\"my-red app-download-pane hide-on-large-only\">\\n     <div class=\"container\">\\n      <div class=\"row\">\\n       <div class=\"col s12 center\" style=\"color:white;font-weight: 300;font-size:14px;margin-top: 28px;margin-bottom: 18px;\">\\n        For the best experience use\\n        <a href=\"/mobile\" style=\"color:white;appearance: none;font-weight: 500;\" target=\"_blank\">\\n         inshorts\\n        </a>\\n        app on your smartphone\\n       </div>\\n      </div>\\n     </div>\\n    </div>\\n   </div>\\n  </div>\\n  <!-- BODY END -->\\n  <footer class=\"page-footer teals\">\\n   <div class=\"container\">\\n    <div class=\"row\" style=\"margin-bottom: 0px; padding-bottom: 5px;\">\\n     <div class=\"col offset-l3 l3 m4 s12 right social-admin\">\\n      <div class=\"social-share\">\\n       <a href=\"https://www.facebook.com/inshortsapp\" onclick=\"ga(\\'send\\', {\\'hitType\\': \\'event\\', \\'eventCategory\\': \\'LinkToFaceBookPage\\', \\'eventAction\\': \\'clicked\\', \\'eventLabel\\': \\'RedirectedToFaceBook\\' });\" target=\"_blank\">\\n        <img src=\"https://assets.inshorts.com/website_assets/images/facebook.png\"/>\\n       </a>\\n      </div>\\n      <div class=\"social-share\">\\n       <a href=\"https://twitter.com/inshorts\" onclick=\"ga(\\'send\\', {\\'hitType\\': \\'event\\', \\'eventCategory\\': \\'LinkToTwitterPage\\', \\'eventAction\\': \\'clicked\\', \\'eventLabel\\': \\'RedirectedToTwitter\\' });\" target=\"_blank\">\\n        <img src=\"https://assets.inshorts.com/website_assets/images/twitter.png\"/>\\n       </a>\\n      </div>\\n      <div class=\"social-share\">\\n       <a href=\"https://www.linkedin.com/company/news-in-shorts\" onclick=\"ga(\\'send\\', {\\'hitType\\': \\'event\\', \\'eventCategory\\': \\'LinkToLinkedinPage\\', \\'eventAction\\': \\'clicked\\', \\'eventLabel\\': \\'RedirectedToLinkedin\\' });\" target=\"_blank\">\\n        <img src=\"https://assets.inshorts.com/website_assets/images/linkedin.png\"/>\\n       </a>\\n      </div>\\n     </div>\\n     <div class=\"col m4 l3 s6 footer-left-pane\">\\n      <div class=\"right\">\\n       <img height=\"48px\" src=\"https://assets.inshorts.com/website_assets/images/logo_footer.png\" width=\"160px\"/>\\n      </div>\\n      <div class=\"copy-text\">\\n       <span>\\n        <span style=\"color:#cfcfcf;font-family: \\'Conv_ClanPro-Bold\\'\">\\n         inshorts\\n        </span>\\n        medialabs pvt. ltd.\\n       </span>\\n       <br/>\\n       ©\\n       <span style=\"font-size:12px\">\\n        COPYRIGHT 2020\\n       </span>\\n      </div>\\n     </div>\\n     <div class=\"col m4 l3 s6 footer-right-pane\">\\n      <div class=\"left clickable\" id=\"contactUsBtn\" style=\"margin-top: -5px;\">\\n       <img height=\"48px\" src=\"https://assets.inshorts.com/website_assets/images/contact_icon.png\" width=\"132px\"/>\\n      </div>\\n      <div class=\"terms-text\">\\n       <a class=\"tnc\" href=\"/tnc\" onclick=\"ga(\\'send\\', {\\'hitType\\': \\'event\\', \\'eventCategory\\': \\'LinkToTermsAndConditionsAndPP\\', \\'eventAction\\': \\'clicked\\', \\'eventLabel\\': \\'RedirectedToTermsAndConditions\\' });\" style=\"color: #fff;\" target=\"_blank\">\\n        <span>\\n         Terms &amp; conditions\\n        </span>\\n        <br/>\\n        <span>\\n         Privacy Policies\\n        </span>\\n       </a>\\n       <br/>\\n       <a class=\"tnc\" href=\"/editorial_policy\" onclick=\"ga(\\'send\\', {\\'hitType\\': \\'event\\', \\'eventCategory\\': \\'LinkToSitemap\\', \\'eventAction\\': \\'clicked\\', \\'eventLabel\\': \\'RedirectedToSitemap\\' });\" style=\"color: #fff;\" target=\"_blank\">\\n        <span>\\n         Editorial Policy\\n        </span>\\n       </a>\\n      </div>\\n     </div>\\n    </div>\\n   </div>\\n   <div class=\"modal_contact row\" id=\"contactUsModal\">\\n    <!-- Modal content -->\\n    <div class=\"modal-content col l4 m4 s8 offset-s2 offset-l4 offset-m4\">\\n     <span class=\"close\">\\n      ×\\n     </span>\\n     <div class=\"contact\">\\n      <a href=\"mailto:careers@inshorts.com?subject=Inshorts%20website%20contact%20form\" target=\"_blank\">\\n       <button id=\"myBtn\">\\n        Contact Hiring Team\\n       </button>\\n      </a>\\n     </div>\\n     <div class=\"contact\">\\n      <a href=\"mailto:Admin@inshorts.com?subject=Inshorts%20website%20contact%20form\" target=\"_blank\">\\n       <button id=\"myBtn\">\\n        Contact Admin Team\\n       </button>\\n      </a>\\n     </div>\\n     <div class=\"contact\">\\n      <a href=\"mailto:Marketing@inshorts.com?subject=Inshorts%20website%20contact%20form\" target=\"_blank\">\\n       <button id=\"myBtn\">\\n        Contact Marketing Team\\n       </button>\\n      </a>\\n     </div>\\n     <div class=\"contact\">\\n      <a href=\"mailto:Editorial@inshorts.com?subject=Inshorts%20website%20contact%20form\" target=\"_blank\">\\n       <button id=\"myBtn\">\\n        Contact Editorial Team\\n       </button>\\n      </a>\\n     </div>\\n     <div class=\"contact\">\\n      <a href=\"mailto:Sales@inshorts.com?subject=Inshorts%20website%20contact%20form\" target=\"_blank\">\\n       <button id=\"myBtn\">\\n        Contact Sales Team\\n       </button>\\n      </a>\\n     </div>\\n     <div class=\"contact\">\\n      <a href=\"mailto:Contact@inshorts.com?subject=Inshorts%20website%20contact%20form\" target=\"_blank\">\\n       <button id=\"myBtn\">\\n        Contact For Any Other Query\\n       </button>\\n      </a>\\n     </div>\\n    </div>\\n   </div>\\n  </footer>\\n  <script>\\n   var modal = document.getElementById(\\'contactUsModal\\');\\n\\n// Get the button that opens the modal\\nvar btn = document.getElementById(\"contactUsBtn\");\\n\\n// Get the <span> element that closes the modal\\nvar span = document.getElementsByClassName(\"close\")[0];\\n\\n// When the user clicks on the button, open the modal \\nbtn.onclick = function() {\\n    modal.style.display = \"block\";\\n}\\n\\n// When the user clicks on <span> (x), close the modal\\nspan.onclick = function() {\\n    modal.style.display = \"none\";\\n}\\n\\n// When the user clicks anywhere outside of the modal, close it\\nwindow.onclick = function(event) {\\n    if (event.target == modal) {\\n        modal.style.display = \"none\";\\n    }\\n}\\n  </script>\\n  <!-- Eliminate render-blocking JavaScript and CSS in above-the-fold content -->\\n  <script src=\"https://ajax.googleapis.com/ajax/libs/jquery/1.8/jquery.min.js\">\\n  </script>\\n  <script src=\"https://cdnjs.cloudflare.com/ajax/libs/materialize/0.97.0/js/materialize.min.js\">\\n  </script>\\n  <script src=\"/dist/scripts/index.js\" type=\"text/javascript\">\\n  </script>\\n  <script src=\"/dist/scripts/read.js\" type=\"text/javascript\">\\n  </script>\\n  <script src=\"/dist/scripts/jquery.scrolldepth.min.js\">\\n  </script>\\n  <script type=\"text/javascript\">\\n   var min_news_id = \"koogdjr5-1\";\\n    function loadMoreNews(){\\n      $(\"#load-more-btn\").hide();\\n      $(\"#load-more-gif\").show();\\n      $.post(\"/en/ajax/more_news\",{\\'category\\':\\'\\',\\'news_offset\\':min_news_id},function(data){\\n          data = JSON.parse(data);\\n          min_news_id = data.min_news_id||min_news_id;\\n          $(\".card-stack\").append(data.html);\\n      })\\n      .fail(function(){alert(\"Error : unable to load more news\");})\\n      .always(function(){$(\"#load-more-btn\").show();$(\"#load-more-gif\").hide();});\\n    }\\n    jQuery.scrollDepth();\\n  </script>\\n  <!-- Eliminate render-blocking JavaScript and CSS in above-the-fold content -->\\n </body>\\n</html>\\n'"
      ]
     },
     "metadata": {},
     "execution_count": 4
    }
   ],
   "source": [
    "from bs4 import BeautifulSoup as bs \n",
    "soup=bs(page.content, 'html.parser')\n",
    "soup.prettify()"
   ]
  },
  {
   "cell_type": "code",
   "execution_count": 5,
   "metadata": {},
   "outputs": [
    {
     "output_type": "execute_result",
     "data": {
      "text/plain": [
       "cks farmers' protest</span>\n",
       " </a>\n",
       " <div class=\"news-card-author-time news-card-author-time-in-title\">\n",
       " <a href=\"/prev/en/news/today-is-punjabs-2611-sad-chief-as-haryana-blocks-farmers-protest-1606411809566\"><span class=\"short\">short</span></a> by <span class=\"author\">Kiran Khatri</span> / \n",
       "       <span class=\"time\" content=\"2020-11-26T17:30:09.000Z\" itemprop=\"datePublished\">11:00 pm</span> on <span clas=\"date\">26 Nov 2020,Thursday</span>\n",
       " </div>\n",
       " </div>\n",
       " <div class=\"news-card-content news-right-box\">\n",
       " <div itemprop=\"articleBody\">Shiromani Akali Dal chief Sukhbir Singh Badal condemned the Haryana government and Centre for attempting to stop the 'Delhi Chalo' protest by farmers, terming it as 'Punjab's 26/11'. \"The battle for the rights of Punjab farmers cannot be throttled by using water cannons against them,\" he said. The Haryana CM should join the protest against the farm laws, Badal added.</div>\n",
       " <div class=\"news-card-author-time news-card-author-time-in-content\">\n",
       " <a href=\"/prev/en/news/today-is-punjabs-2611-sad-chief-as-haryana-blocks-farmers-protest-1606411809566\"><span class=\"short\">short</span></a> by <span class=\"author\">Kiran Khatri</span> / \n",
       "       <span class=\"time\" content=\"2020-11-26T17:30:09.000Z\" itemprop=\"dateModified\">11:00 pm</span> on <span class=\"date\">26 Nov</span>\n",
       " </div>\n",
       " </div>\n",
       " <div class=\"news-card-footer news-right-box\">\n",
       " <div class=\"read-more\">read more at <a class=\"source\" href=\"https://www.aninews.in/news/national/general-news/sukhbir-badal-condemns-haryana-police-action-to-stop-farmers-march-says-today-is-punjabs-261120201126190852/?utm_campaign=fullarticle&amp;utm_medium=referral&amp;utm_source=inshorts \" onclick=\"ga('send', {'hitType': 'event', 'eventCategory': 'ReadMore', 'eventAction': 'clicked', 'eventLabel': 'ANI' });\" target=\"_blank\">ANI</a></div>\n",
       " </div>\n",
       " </div>\n",
       " </div>\n",
       " <div id=\"div-gpt-ad-1536748319959-dc1i2zoh-1\" style=\"height:250px; width:900px; margin: auto; margin-bottom: 2%;\">\n",
       " <script>\n",
       "         googletag.cmd.push(function() { \n",
       "           //News banner for desktop\n",
       "           var slotIdWeb = 'div-gpt-ad-1536748319959-dc1i2zoh-1';\n",
       "           var slot = googletag.defineSlot('/142919096/inshorts_website_900x250', [900, 250], slotIdWeb)\n",
       "           .addService(googletag.pubads())\n",
       "           .setCollapseEmptyDiv(true,true);\n",
       " \n",
       "           googletag.display('div-gpt-ad-1536748319959-dc1i2zoh-1');\n",
       "           googletag.pubads().refresh([slot]);\n",
       "         });\n",
       "       </script>\n",
       " </div>\n",
       " <div class=\"\">\n",
       " <div class=\"news-card z-depth-1\" itemscope=\"\" itemtype=\"http://schema.org/NewsArticle\">\n",
       " <span content=\"\" itemid=\"https://inshorts.com/en/news/turkey-gives-f16-pilots-79-life-sentences-each-for-failed-2016-coup-1606410614763\" itemprop=\"mainEntityOfPage\" itemscope=\"\" itemtype=\"https://schema.org/WebPage\"></span>\n",
       " <span itemprop=\"author\" itemscope=\"itemscope\" itemtype=\"https://schema.org/Person\">\n",
       " <span content=\"Shailesh\" itemprop=\"name\"></span>\n",
       " </span>\n",
       " <span content=\"Turkey gives F-16 pilots 79 life sentences each for failed 2016 coup\" itemprop=\"description\"></span>\n",
       " <span itemprop=\"image\" itemscope=\"\" itemtype=\"https://schema.org/ImageObject\">\n",
       " <meta content=\"https://static.inshorts.com/inshorts/images/v1/variants/jpg/m/2020/11_nov/26_thu/img_1606407827311_318.jpg?\" itemprop=\"url\"/>\n",
       " <meta content=\"864\" itemprop=\"width\"/>\n",
       " <meta content=\"483\" itemprop=\"height\"/>\n",
       " </span>\n",
       " <span itemprop=\"publisher\" itemscope=\"itemscope\" itemtype=\"https://schema.org/Organization\">\n",
       " <span content=\"https://inshorts.com/\" itemprop=\"url\"></span>\n",
       " <span content=\"Inshorts\" itemprop=\"name\"></span>\n",
       " <span itemprop=\"logo\" itemscope=\"\" itemtype=\"https://schema.org/ImageObject\">\n",
       " <span content=\"https://assets.inshorts.com/inshorts/images/v1/variants/jpg/m/2018/11_nov/21_wed/img_1542823931298_497.jpg\" itemprop=\"url\"></span>\n",
       " <meta content=\"400\" itemprop=\"width\"/>\n",
       " <meta content=\"60\" itemprop=\"height\"/>\n",
       " </span>\n",
       " </span>\n",
       " <div class=\"news-card-image\" style=\"background-image: url('https://static.inshorts.com/inshorts/images/v1/variants/jpg/m/2020/11_nov/26_thu/img_1606407827311_318.jpg?')\">\n",
       " </div>\n",
       " <div class=\"news-card-title news-right-box\">\n",
       " <a class=\"clickable\" href=\"/en/news/turkey-gives-f16-pilots-79-life-sentences-each-for-failed-2016-coup-1606410614763\" onclick=\"ga('send', {'hitType': 'event', 'eventCategory': 'TitleOfNews', 'eventAction': 'clicked', 'eventLabel': 'Turkey%20gives%20F-16%20pilots%2079%20life%20sentences%20each%20for%20failed%202016%20coup)' });\" style=\"color:#44444d!important\">\n",
       " <span itemprop=\"headline\">Turkey gives F-16 pilots 79 life sentences each for failed 2016 coup</span>\n",
       " </a>\n",
       " <div class=\"news-card-author-time news-card-author-time-in-title\">\n",
       " <a href=\"/prev/en/news/turkey-gives-f16-pilots-79-life-sentences-each-for-failed-2016-coup-1606410614763\"><span class=\"short\">short</span></a> by <span class=\"author\">Shailesh</span> / \n",
       "       <span class=\"time\" content=\"2020-11-26T17:10:14.000Z\" itemprop=\"datePublished\">10:40 pm</span> on <span clas=\"date\">26 Nov 2020,Thursday</span>\n",
       " </div>\n",
       " </div>\n",
       " <div class=\"news-card-content news-right-box\">\n",
       " <div itemprop=\"articleBody\">A Turkish court on Thursday sentenced 19 defendants, including F-16 fighter jet pilots, to 79 aggravated life sentences each for their role in the failed 2016 coup in Turkey. The pilots had carried out bombings on government buildings in capital Ankara during the attempted coup, a state media report said. Seventy people were acquitted, the report added.</div>\n",
       " <div class=\"news-card-author-time news-card-author-time-in-content\">\n",
       " <a href=\"/prev/en/news/turkey-gives-f16-pilots-79-life-sentences-each-for-failed-2016-coup-1606410614763\"><span class=\"short\">short</span></a> by <span class=\"author\">Shailesh</span> / \n",
       "       <span class=\"time\" content=\"2020-11-26T17:10:14.000Z\" itemprop=\"dateModified\">10:40 pm</span> on <span class=\"date\">26 Nov</span>\n",
       " </div>\n",
       " </div>\n",
       " <div class=\"news-card-footer news-right-box\">\n",
       " <div class=\"read-more\">read more at <a class=\"source\" href=\"https://mobile.reuters.com/article/amp/idUSKBN2860L6?utm_campaign=fullarticle&amp;utm_medium=referral&amp;utm_source=inshorts \" onclick=\"ga('send', {'hitType': 'event', 'eventCategory': 'ReadMore', 'eventAction': 'clicked', 'eventLabel': 'Reuters' });\" target=\"_blank\">Reuters</a></div>\n",
       " </div>\n",
       " </div>\n",
       " </div>\n",
       " <div class=\"\">\n",
       " <div class=\"news-card z-depth-1\" itemscope=\"\" itemtype=\"http://schema.org/NewsArticle\">\n",
       " <span content=\"\" itemid=\"https://inshorts.com/en/news/danish-pm-in-tears-after-visiting-mink-farmer-whose-herd-was-culled-1606413423596\" itemprop=\"mainEntityOfPage\" itemscope=\"\" itemtype=\"https://schema.org/WebPage\"></span>\n",
       " <span itemprop=\"author\" itemscope=\"itemscope\" itemtype=\"https://schema.org/Person\">\n",
       " <span content=\"Shailesh\" itemprop=\"name\"></span>\n",
       " </span>\n",
       " <span content=\"Danish PM in tears after visiting mink farmer whose herd was culled\" itemprop=\"description\"></span>\n",
       " <span itemprop=\"image\" itemscope=\"\" itemtype=\"https://schema.org/ImageObject\">\n",
       " <meta content=\"https://static.inshorts.com/inshorts/images/v1/variants/jpg/m/2020/11_nov/26_thu/img_1606412080022_328.jpg?\" itemprop=\"url\"/>\n",
       " <meta content=\"864\" itemprop=\"width\"/>\n",
       " <meta content=\"483\" itemprop=\"height\"/>\n",
       " </span>\n",
       " <span itemprop=\"publisher\" itemscope=\"itemscope\" itemtype=\"https://schema.org/Organization\">\n",
       " <span content=\"https://inshorts.com/\" itemprop=\"url\"></span>\n",
       " <span content=\"Inshorts\" itemprop=\"name\"></span>\n",
       " <span itemprop=\"logo\" itemscope=\"\" itemtype=\"https://schema.org/ImageObject\">\n",
       " <span content=\"https://assets.inshorts.com/inshorts/images/v1/variants/jpg/m/2018/11_nov/21_wed/img_1542823931298_497.jpg\" itemprop=\"url\"></span>\n",
       " <meta content=\"400\" itemprop=\"width\"/>\n",
       " <meta content=\"60\" itemprop=\"height\"/>\n",
       " </span>\n",
       " </span>\n",
       " <div class=\"news-card-image\" style=\"background-image: url('https://static.inshorts.com/inshorts/images/v1/variants/jpg/m/2020/11_nov/26_thu/img_1606412080022_328.jpg?')\">\n",
       " </div>\n",
       " <div class=\"news-card-title news-right-box\">\n",
       " <a class=\"clickable\" href=\"/en/news/danish-pm-in-tears-after-visiting-mink-farmer-whose-herd-was-culled-1606413423596\" onclick=\"ga('send', {'hitType': 'event', 'eventCategory': 'TitleOfNews', 'eventAction': 'clicked', 'eventLabel': 'Danish%20PM%20in%20tears%20after%20visiting%20mink%20farmer%20whose%20herd%20was%20culled)' });\" style=\"color:#44444d!important\">\n",
       " <span itemprop=\"headline\">Danish PM in tears after visiting mink farmer whose herd was culled</span>\n",
       " </a>\n",
       " <div class=\"news-card-author-time news-card-author-time-in-title\">\n",
       " <a href=\"/prev/en/news/danish-pm-in-tears-after-visiting-mink-farmer-whose-herd-was-culled-1606413423596\"><span class=\"short\">short</span></a> by <span class=\"author\">Shailesh</span> / \n",
       "       <span class=\"time\" content=\"2020-11-26T17:57:03.000Z\" itemprop=\"datePublished\">11:27 pm</span> on <span clas=\"date\">26 Nov 2020,Thursday</span>\n",
       " </div>\n",
       " </div>\n",
       " <div class=\"news-card-content news-right-box\">\n",
       " <div itemprop=\"articleBody\">Denmark's PM Mette Frederiksen broke down after visiting a mink farmer who lost his herd as part of a nationwide cull ordered by the government this month. The cull was ordered after a mutated version of COVID-19 was found in them. \"We've two generations of...mink farmers...who in a very, very short time have had their life's work shattered,\" she said.</div>\n",
       " <div class=\"news-card-author-time news-card-author-time-in-content\">\n",
       " <a href=\"/prev/en/news/danish-pm-in-tears-after-visiting-mink-farmer-whose-herd-was-culled-1606413423596\"><span class=\"short\">short</span></a> by <span class=\"author\">Shailesh</span> / \n",
       "       <span class=\"time\" content=\"2020-11-26T17:57:03.000Z\" itemprop=\"dateModified\">11:27 pm</span> on <span class=\"date\">26 Nov</span>\n",
       " </div>\n",
       " </div>\n",
       " <div class=\"news-card-footer news-right-box\">\n",
       " <div class=\"read-more\">read more at <a class=\"source\" href=\"https://mobile.reuters.com/article/amp/idUSKBN2861YM?utm_campaign=fullarticle&amp;utm_medium=referral&amp;utm_source=inshorts \" onclick=\"ga('send', {'hitType': 'event', 'eventCategory': 'ReadMore', 'eventAction': 'clicked', 'eventLabel': 'Reuters' });\" target=\"_blank\">Reuters</a></div>\n",
       " </div>\n",
       " </div>\n",
       " </div>\n",
       " <div class=\"\">\n",
       " <div class=\"news-card z-depth-1\" itemscope=\"\" itemtype=\"http://schema.org/NewsArticle\">\n",
       " <span content=\"\" itemid=\"https://inshorts.com/en/news/ed-arrests-cox-kings-promoter-peter-kerkar-in-yes-bank-case-1606412992187\" itemprop=\"mainEntityOfPage\" itemscope=\"\" itemtype=\"https://schema.org/WebPage\"></span>\n",
       " <span itemprop=\"author\" itemscope=\"itemscope\" itemtype=\"https://schema.org/Person\">\n",
       " <span content=\"Kiran Khatri\" itemprop=\"name\"></span>\n",
       " </span>\n",
       " <span content=\"ED arrests Cox &amp; Kings promoter Peter Kerkar in Yes Bank case\" itemprop=\"description\"></span>\n",
       " <span itemprop=\"image\" itemscope=\"\" itemtype=\"https://schema.org/ImageObject\">\n",
       " <meta content=\"https://static.inshorts.com/inshorts/images/v1/variants/jpg/m/2020/11_nov/26_thu/img_1606410737133_845.jpg?\" itemprop=\"url\"/>\n",
       " <meta content=\"864\" itemprop=\"width\"/>\n",
       " <meta content=\"483\" itemprop=\"height\"/>\n",
       " </span>\n",
       " <span itemprop=\"publisher\" itemscope=\"itemscope\" itemtype=\"https://schema.org/Organization\">\n",
       " <span content=\"https://inshorts.com/\" itemprop=\"url\"></span>\n",
       " <span content=\"Inshorts\" itemprop=\"name\"></span>\n",
       " <span itemprop=\"logo\" itemscope=\"\" itemtype=\"https://schema.org/ImageObject\">\n",
       " <span content=\"https://assets.inshorts.com/inshorts/images/v1/variants/jpg/m/2018/11_nov/21_wed/img_1542823931298_497.jpg\" itemprop=\"url\"></span>\n",
       " <meta content=\"400\" itemprop=\"width\"/>\n",
       " <meta content=\"60\" itemprop=\"height\"/>\n",
       " </span>\n",
       " </span>\n",
       " <div class=\"news-card-image\" style=\"background-image: url('https://static.inshorts.com/inshorts/images/v1/variants/jpg/m/2020/11_nov/26_thu/img_1606410737133_845.jpg?')\">\n",
       " </div>\n",
       " <div class=\"news-card-title news-right-box\">\n",
       " <a class=\"clickable\" href=\"/en/news/ed-arrests-cox-kings-promoter-peter-kerkar-in-yes-bank-case-1606412992187\" onclick=\"ga('send', {'hitType': 'event', 'eventCategory': 'TitleOfNews', 'eventAction': 'clicked', 'eventLabel': 'ED%20arrests%20Cox%20%26%20Kings%20promoter%20Peter%20Kerkar%20in%20Yes%20Bank%20case)' });\" style=\"color:#44444d!important\">\n",
       " <span itemprop=\"headline\">ED arrests Cox &amp; Kings promoter Peter Kerkar in Yes Bank case</span>\n",
       " </a>\n",
       " <div class=\"news-card-author-time news-card-author-time-in-title\">\n",
       " <a href=\"/prev/en/news/ed-arrests-cox-kings-promoter-peter-kerkar-in-yes-bank-case-1606412992187\"><span class=\"short\">short</span></a> by <span class=\"author\">Kiran Khatri</span> / \n",
       "       <span class=\"time\" content=\"2020-11-26T17:49:52.000Z\" itemprop=\"datePublished\">11:19 pm</span> on <span clas=\"date\">26 Nov 2020,Thursday</span>\n",
       " </div>\n",
       " </div>\n",
       " <div class=\"news-card-content news-right-box\">\n",
       " <div itemprop=\"articleBody\">The ED has arrested Cox &amp; Kings promoter Ajay Ajit Peter Kerkar in connection with the Yes Bank money laundering case. The company, which is one of the top borrowers of Yes Bank, owes ₹5,500 crore to several banks and non-banking financial institutions. Last month, the ED arrested Anil Khandelwal, former CFO of Cox &amp; Kings, in the case.</div>\n",
       " <div class=\"news-card-author-time news-card-author-time-in-content\">\n",
       " <a href=\"/prev/en/news/ed-arrests-cox-kings-promoter-peter-kerkar-in-yes-bank-case-1606412992187\"><span class=\"short\">short</span></a> by <span class=\"author\">Kiran Khatri</span> / \n",
       "       <span class=\"time\" content=\"2020-11-26T17:49:52.000Z\" itemprop=\"dateModified\">11:19 pm</span> on <span class=\"date\">26 Nov</span>\n",
       " </div>\n",
       " </div>\n",
       " </div>\n",
       " </div>\n",
       " </div>\n",
       " <div class=\"load-more-wrapper\">\n",
       " <div class=\"clickable unselectable load-more z-depth-1 hoverable\" id=\"load-more-btn\" onclick=\"loadMoreNews()\">Load More</div>\n",
       " <div class=\"clickable unselectable load-more\" id=\"load-more-gif\" style=\"display:none;\"><img id=\"load-more-gif\" src=\"https://assets.inshorts.com/website_assets/images/ajax-loader.gif\"/></div>\n",
       " </div>\n",
       " <div class=\"my-red app-download-pane hide-on-large-only\">\n",
       " <div class=\"container\">\n",
       " <div class=\"row\">\n",
       " <div class=\"col s12 center\" style=\"color:white;font-weight: 300;font-size:14px;margin-top: 28px;margin-bottom: 18px;\">\n",
       "               For the best experience use <a href=\"/mobile\" style=\"color:white;appearance: none;font-weight: 500;\" target=\"_blank\">inshorts</a> app on your smartphone\n",
       "             </div>\n",
       " </div>\n",
       " </div>\n",
       " </div>\n",
       " </div>\n",
       " </div>\n",
       " <!-- BODY END -->\n",
       " <footer class=\"page-footer teals\">\n",
       " <div class=\"container\">\n",
       " <div class=\"row\" style=\"margin-bottom: 0px; padding-bottom: 5px;\">\n",
       " <div class=\"col offset-l3 l3 m4 s12 right social-admin\">\n",
       " <div class=\"social-share\"><a href=\"https://www.facebook.com/inshortsapp\" onclick=\"ga('send', {'hitType': 'event', 'eventCategory': 'LinkToFaceBookPage', 'eventAction': 'clicked', 'eventLabel': 'RedirectedToFaceBook' });\" target=\"_blank\"><img src=\"https://assets.inshorts.com/website_assets/images/facebook.png\"/></a></div>\n",
       " <div class=\"social-share\"><a href=\"https://twitter.com/inshorts\" onclick=\"ga('send', {'hitType': 'event', 'eventCategory': 'LinkToTwitterPage', 'eventAction': 'clicked', 'eventLabel': 'RedirectedToTwitter' });\" target=\"_blank\"><img src=\"https://assets.inshorts.com/website_assets/images/twitter.png\"/></a></div>\n",
       " <div class=\"social-share\"><a href=\"https://www.linkedin.com/company/news-in-shorts\" onclick=\"ga('send', {'hitType': 'event', 'eventCategory': 'LinkToLinkedinPage', 'eventAction': 'clicked', 'eventLabel': 'RedirectedToLinkedin' });\" target=\"_blank\"><img src=\"https://assets.inshorts.com/website_assets/images/linkedin.png\"/></a></div>\n",
       " </div>\n",
       " <div class=\"col m4 l3 s6 footer-left-pane\">\n",
       " <div class=\"right\"><img height=\"48px\" src=\"https://assets.inshorts.com/website_assets/images/logo_footer.png\" width=\"160px\"/></div>\n",
       " <div class=\"copy-text\">\n",
       " <span><span style=\"color:#cfcfcf;font-family: 'Conv_ClanPro-Bold'\">inshorts</span> medialabs pvt. ltd.</span><br/>\n",
       "           ©<span style=\"font-size:12px\">COPYRIGHT 2020</span>\n",
       " </div>\n",
       " </div>\n",
       " <div class=\"col m4 l3 s6 footer-right-pane\">\n",
       " <div class=\"left clickable\" id=\"contactUsBtn\" style=\"margin-top: -5px;\"><img height=\"48px\" src=\"https://assets.inshorts.com/website_assets/images/contact_icon.png\" width=\"132px\"/></div>\n",
       " <div class=\"terms-text\">\n",
       " <a class=\"tnc\" href=\"/tnc\" onclick=\"ga('send', {'hitType': 'event', 'eventCategory': 'LinkToTermsAndConditionsAndPP', 'eventAction': 'clicked', 'eventLabel': 'RedirectedToTermsAndConditions' });\" style=\"color: #fff;\" target=\"_blank\"><span>Terms &amp; conditions</span><br/>\n",
       " <span>Privacy Policies</span>\n",
       " </a>\n",
       " <br/>\n",
       " <a class=\"tnc\" href=\"/editorial_policy\" onclick=\"ga('send', {'hitType': 'event', 'eventCategory': 'LinkToSitemap', 'eventAction': 'clicked', 'eventLabel': 'RedirectedToSitemap' });\" style=\"color: #fff;\" target=\"_blank\">\n",
       " <span>Editorial Policy</span>\n",
       " </a>\n",
       " </div>\n",
       " </div>\n",
       " </div>\n",
       " </div>\n",
       " <div class=\"modal_contact row\" id=\"contactUsModal\">\n",
       " <!-- Modal content -->\n",
       " <div class=\"modal-content col l4 m4 s8 offset-s2 offset-l4 offset-m4\">\n",
       " <span class=\"close\">×</span>\n",
       " <div class=\"contact\">\n",
       " <a href=\"mailto:careers@inshorts.com?subject=Inshorts%20website%20contact%20form\" target=\"_blank\">\n",
       " <button id=\"myBtn\">Contact Hiring Team</button>\n",
       " </a>\n",
       " </div>\n",
       " <div class=\"contact\">\n",
       " <a href=\"mailto:Admin@inshorts.com?subject=Inshorts%20website%20contact%20form\" target=\"_blank\">\n",
       " <button id=\"myBtn\">Contact Admin Team</button>\n",
       " </a>\n",
       " </div>\n",
       " <div class=\"contact\">\n",
       " <a href=\"mailto:Marketing@inshorts.com?subject=Inshorts%20website%20contact%20form\" target=\"_blank\">\n",
       " <button id=\"myBtn\">Contact Marketing Team</button>\n",
       " </a>\n",
       " </div>\n",
       " <div class=\"contact\">\n",
       " <a href=\"mailto:Editorial@inshorts.com?subject=Inshorts%20website%20contact%20form\" target=\"_blank\">\n",
       " <button id=\"myBtn\">Contact Editorial Team</button>\n",
       " </a>\n",
       " </div>\n",
       " <div class=\"contact\">\n",
       " <a href=\"mailto:Sales@inshorts.com?subject=Inshorts%20website%20contact%20form\" target=\"_blank\">\n",
       " <button id=\"myBtn\">Contact Sales Team</button>\n",
       " </a>\n",
       " </div>\n",
       " <div class=\"contact\">\n",
       " <a href=\"mailto:Contact@inshorts.com?subject=Inshorts%20website%20contact%20form\" target=\"_blank\">\n",
       " <button id=\"myBtn\">Contact For Any Other Query</button>\n",
       " </a>\n",
       " </div>\n",
       " </div>\n",
       " </div>\n",
       " </footer>\n",
       " <script>\n",
       " var modal = document.getElementById('contactUsModal');\n",
       " \n",
       " // Get the button that opens the modal\n",
       " var btn = document.getElementById(\"contactUsBtn\");\n",
       " \n",
       " // Get the <span> element that closes the modal\n",
       " var span = document.getElementsByClassName(\"close\")[0];\n",
       " \n",
       " // When the user clicks on the button, open the modal \n",
       " btn.onclick = function() {\n",
       "     modal.style.display = \"block\";\n",
       " }\n",
       " \n",
       " // When the user clicks on <span> (x), close the modal\n",
       " span.onclick = function() {\n",
       "     modal.style.display = \"none\";\n",
       " }\n",
       " \n",
       " // When the user clicks anywhere outside of the modal, close it\n",
       " window.onclick = function(event) {\n",
       "     if (event.target == modal) {\n",
       "         modal.style.display = \"none\";\n",
       "     }\n",
       " }\n",
       " </script>\n",
       " <!-- Eliminate render-blocking JavaScript and CSS in above-the-fold content -->\n",
       " <script src=\"https://ajax.googleapis.com/ajax/libs/jquery/1.8/jquery.min.js\"></script>\n",
       " <script src=\"https://cdnjs.cloudflare.com/ajax/libs/materialize/0.97.0/js/materialize.min.js\"></script>\n",
       " <script src=\"/dist/scripts/index.js\" type=\"text/javascript\"></script>\n",
       " <script src=\"/dist/scripts/read.js\" type=\"text/javascript\"></script>\n",
       " <script src=\"/dist/scripts/jquery.scrolldepth.min.js\"></script>\n",
       " <script type=\"text/javascript\">\n",
       " \n",
       "     var min_news_id = \"koogdjr5-1\";\n",
       "     function loadMoreNews(){\n",
       "       $(\"#load-more-btn\").hide();\n",
       "       $(\"#load-more-gif\").show();\n",
       "       $.post(\"/en/ajax/more_news\",{'category':'','news_offset':min_news_id},function(data){\n",
       "           data = JSON.parse(data);\n",
       "           min_news_id = data.min_news_id||min_news_id;\n",
       "           $(\".card-stack\").append(data.html);\n",
       "       })\n",
       "       .fail(function(){alert(\"Error : unable to load more news\");})\n",
       "       .always(function(){$(\"#load-more-btn\").show();$(\"#load-more-gif\").hide();});\n",
       "     }\n",
       "     jQuery.scrollDepth();\n",
       "   </script>\n",
       " <!-- Eliminate render-blocking JavaScript and CSS in above-the-fold content -->\n",
       " </body>\n",
       " </html>, '\\n']"
      ]
     },
     "metadata": {},
     "execution_count": 5
    }
   ],
   "source": [
    "list(soup.children)"
   ]
  },
  {
   "cell_type": "code",
   "execution_count": 10,
   "metadata": {},
   "outputs": [],
   "source": [
    "html=list(soup.children)[2]\n",
    "body=list(html.children)[5]\n",
    "t1=list(body.children)[23]\n"
   ]
  },
  {
   "cell_type": "code",
   "execution_count": 88,
   "metadata": {},
   "outputs": [
    {
     "output_type": "execute_result",
     "data": {
      "text/plain": "[<span class=\"time\" content=\"2020-05-20T10:30:20.000Z\" itemprop=\"dateModified\">04:00 pm</span>,\n <span class=\"time\" content=\"2020-05-20T09:57:49.000Z\" itemprop=\"dateModified\">03:27 pm</span>,\n <span class=\"time\" content=\"2020-05-20T10:35:42.000Z\" itemprop=\"dateModified\">04:05 pm</span>,\n <span class=\"time\" content=\"2020-05-20T10:55:38.000Z\" itemprop=\"dateModified\">04:25 pm</span>,\n <span class=\"time\" content=\"2020-05-20T10:22:38.000Z\" itemprop=\"dateModified\">03:52 pm</span>,\n <span class=\"time\" content=\"2020-05-20T10:15:47.000Z\" itemprop=\"dateModified\">03:45 pm</span>,\n <span class=\"time\" content=\"2020-05-20T09:05:59.000Z\" itemprop=\"dateModified\">02:35 pm</span>,\n <span class=\"time\" content=\"2020-05-20T09:26:58.000Z\" itemprop=\"dateModified\">02:56 pm</span>,\n <span class=\"time\" content=\"2020-05-20T09:02:34.000Z\" itemprop=\"dateModified\">02:32 pm</span>,\n <span class=\"time\" content=\"2020-05-20T10:20:49.000Z\" itemprop=\"dateModified\">03:50 pm</span>,\n <span class=\"time\" content=\"2020-05-20T10:29:31.000Z\" itemprop=\"dateModified\">03:59 pm</span>,\n <span class=\"time\" content=\"2020-05-20T09:32:28.000Z\" itemprop=\"dateModified\">03:02 pm</span>,\n <span class=\"time\" content=\"2020-05-20T09:34:16.000Z\" itemprop=\"dateModified\">03:04 pm</span>,\n <span class=\"time\" content=\"2020-05-20T08:51:44.000Z\" itemprop=\"dateModified\">02:21 pm</span>,\n <span class=\"time\" content=\"2020-05-20T09:01:53.000Z\" itemprop=\"dateModified\">02:31 pm</span>,\n <span class=\"time\" content=\"2020-05-20T09:11:57.000Z\" itemprop=\"dateModified\">02:41 pm</span>,\n <span class=\"time\" content=\"2020-05-20T10:18:35.000Z\" itemprop=\"dateModified\">03:48 pm</span>,\n <span class=\"time\" content=\"2020-05-20T10:08:57.000Z\" itemprop=\"dateModified\">03:38 pm</span>,\n <span class=\"time\" content=\"2020-05-20T10:48:06.000Z\" itemprop=\"dateModified\">04:18 pm</span>,\n <span class=\"time\" content=\"2020-05-20T09:31:10.000Z\" itemprop=\"dateModified\">03:01 pm</span>,\n <span class=\"time\" content=\"2020-05-20T09:10:27.000Z\" itemprop=\"dateModified\">02:40 pm</span>,\n <span class=\"time\" content=\"2020-05-20T09:40:39.000Z\" itemprop=\"dateModified\">03:10 pm</span>,\n <span class=\"time\" content=\"2020-05-20T09:54:25.000Z\" itemprop=\"dateModified\">03:24 pm</span>,\n <span class=\"time\" content=\"2020-05-20T09:43:21.000Z\" itemprop=\"dateModified\">03:13 pm</span>,\n <span class=\"time\" content=\"2020-05-20T09:55:42.000Z\" itemprop=\"dateModified\">03:25 pm</span>]"
     },
     "metadata": {},
     "execution_count": 88
    }
   ],
   "source": [
    "time=t1.find_all('span',class_=\"time\",itemprop=\"dateModified\")\n",
    "time"
   ]
  },
  {
   "cell_type": "code",
   "execution_count": 91,
   "metadata": {},
   "outputs": [
    {
     "output_type": "execute_result",
     "data": {
      "text/plain": "[<span class=\"date\">20 May</span>,\n <span class=\"date\">20 May</span>,\n <span class=\"date\">20 May</span>,\n <span class=\"date\">20 May</span>,\n <span class=\"date\">20 May</span>,\n <span class=\"date\">20 May</span>,\n <span class=\"date\">20 May</span>,\n <span class=\"date\">20 May</span>,\n <span class=\"date\">20 May</span>,\n <span class=\"date\">20 May</span>,\n <span class=\"date\">20 May</span>,\n <span class=\"date\">20 May</span>,\n <span class=\"date\">20 May</span>,\n <span class=\"date\">20 May</span>,\n <span class=\"date\">20 May</span>,\n <span class=\"date\">20 May</span>,\n <span class=\"date\">20 May</span>,\n <span class=\"date\">20 May</span>,\n <span class=\"date\">20 May</span>,\n <span class=\"date\">20 May</span>,\n <span class=\"date\">20 May</span>,\n <span class=\"date\">20 May</span>,\n <span class=\"date\">20 May</span>,\n <span class=\"date\">20 May</span>,\n <span class=\"date\">20 May</span>]"
     },
     "metadata": {},
     "execution_count": 91
    }
   ],
   "source": [
    "date=t1.find_all('span',class_=\"date\")\n",
    "date"
   ]
  },
  {
   "cell_type": "code",
   "execution_count": 90,
   "metadata": {},
   "outputs": [
    {
     "output_type": "execute_result",
     "data": {
      "text/plain": "[<span itemprop=\"headline\">Biggest one-day jump in COVID-19 cases recorded in Delhi for 2nd day in a row</span>,\n <span itemprop=\"headline\">Cyclone Amphan to hit West Bengal from 4 pm onwards with speed of 155-165 kmph: IMD</span>,\n <span itemprop=\"headline\">Govt grants exemption from lockdown measures to hold Board exams with conditions</span>,\n <span itemprop=\"headline\">South Korean students return to school after months of online classes</span>,\n <span itemprop=\"headline\">Delhi jail official tests COVID-19 +ve days after 15 inmates found infected</span>,\n <span itemprop=\"headline\">NDRF evacuates 4.5 lakh people in WB, Odisha due to Cyclone Amphan</span>,\n <span itemprop=\"headline\">1,388 Maha police personnel tested +ve so far, 12 deaths due to COVID-19</span>,\n <span itemprop=\"headline\">Over 25 lakh samples tested for COVID-19 so far: ICMR</span>,\n <span itemprop=\"headline\">Gautam Buddha Nagar restricts general traffic from Delhi in new guidelines</span>,\n <span itemprop=\"headline\">Kolkata locals set up free vegetable market for the needy</span>,\n <span itemprop=\"headline\">Rolls-Royce to cut over 9,000 jobs globally to save $857 mn amid COVID-19</span>,\n <span itemprop=\"headline\">Facebook launches 'Shops' to let small businesses set up online stores</span>,\n <span itemprop=\"headline\">Hardware is hard, we're definitely going to have hiccups: Google CEO Pichai</span>,\n <span itemprop=\"headline\">Khatabook raises $60 mn led by Facebook Co-founder Eduardo's fund</span>,\n <span itemprop=\"headline\">ShareChat fires 101 employees comprising 25% of its workforce</span>,\n <span itemprop=\"headline\">SC refuses to interfere with NGT order on Vizag gas leak inquiry</span>,\n <span itemprop=\"headline\">US family finds ₹7.5 cr in bags they thought was trash; return money to police</span>,\n <span itemprop=\"headline\">Actress Sonalee Kulkarni announces engagement on birthday</span>,\n <span itemprop=\"headline\">Family is holding up well but we miss Rishi every day: Brother Randhir</span>,\n <span itemprop=\"headline\">It's exciting: Schwarzenegger on daughter Katherine's pregnancy</span>,\n <span itemprop=\"headline\">You don't have to forward every message: Gajraj on rumours amid COVID-19</span>,\n <span itemprop=\"headline\">Venezuela sees highest single-day spike in COVID-19 cases</span>,\n <span itemprop=\"headline\">Google expects to be at 20-30% office capacity by year-end: CEO Pichai</span>,\n <span itemprop=\"headline\">Microsoft acquires robotic process automation provider Softomotive</span>,\n <span itemprop=\"headline\">B'desh shifts over 20 lakh people ahead of cyclone Amphan's landfall</span>]"
     },
     "metadata": {},
     "execution_count": 90
    }
   ],
   "source": [
    "title=t1.find_all('span',itemprop=\"headline\")\n",
    "title"
   ]
  },
  {
   "cell_type": "code",
   "execution_count": 146,
   "metadata": {},
   "outputs": [
    {
     "output_type": "execute_result",
     "data": {
      "text/plain": "[<a class=\"clickable\" href=\"/en/news/biggest-oneday-jump-in-covid19-cases-recorded-in-delhi-for-2nd-day-in-a-row-1589970620393\" onclick=\"ga('send', {'hitType': 'event', 'eventCategory': 'TitleOfNews', 'eventAction': 'clicked', 'eventLabel': 'Biggest%20one-day%20jump%20in%20COVID-19%20cases%20recorded%20in%20Delhi%20for%202nd%20day%20in%20a%20row)' });\" style=\"color:#44444d!important\">\n <span itemprop=\"headline\">Biggest one-day jump in COVID-19 cases recorded in Delhi for 2nd day in a row</span>\n </a>,\n <a class=\"clickable\" href=\"/en/news/cyclone-amphan-to-hit-west-bengal-from-4-pm-onwards-with-speed-of-155165-kmph-imd-1589968669869\" onclick=\"ga('send', {'hitType': 'event', 'eventCategory': 'TitleOfNews', 'eventAction': 'clicked', 'eventLabel': 'Cyclone%20Amphan%20to%20hit%20West%20Bengal%20from%204%20pm%20onwards%20with%20speed%20of%20155-165%20kmph%3A%20IMD)' });\" style=\"color:#44444d!important\">\n <span itemprop=\"headline\">Cyclone Amphan to hit West Bengal from 4 pm onwards with speed of 155-165 kmph: IMD</span>\n </a>,\n <a class=\"clickable\" href=\"/en/news/govt-grants-exemption-from-lockdown-measures-to-hold-board-exams-with-conditions-1589970942139\" onclick=\"ga('send', {'hitType': 'event', 'eventCategory': 'TitleOfNews', 'eventAction': 'clicked', 'eventLabel': 'Govt%20grants%20exemption%20from%20lockdown%20measures%20to%20hold%20Board%20exams%20with%20conditions)' });\" style=\"color:#44444d!important\">\n <span itemprop=\"headline\">Govt grants exemption from lockdown measures to hold Board exams with conditions</span>\n </a>,\n <a class=\"clickable\" href=\"/en/news/south-korean-students-return-to-school-after-months-of-online-classes-1589972138124\" onclick=\"ga('send', {'hitType': 'event', 'eventCategory': 'TitleOfNews', 'eventAction': 'clicked', 'eventLabel': 'South%20Korean%20students%20return%20to%20school%20after%20months%20of%20online%20classes)' });\" style=\"color:#44444d!important\">\n <span itemprop=\"headline\">South Korean students return to school after months of online classes</span>\n </a>,\n <a class=\"clickable\" href=\"/en/news/delhi-jail-official-tests-covid19-+ve-days-after-15-inmates-found-infected-1589970158436\" onclick=\"ga('send', {'hitType': 'event', 'eventCategory': 'TitleOfNews', 'eventAction': 'clicked', 'eventLabel': 'Delhi%20jail%20official%20tests%20COVID-19%20%2Bve%20days%20after%2015%20inmates%20found%20infected)' });\" style=\"color:#44444d!important\">\n <span itemprop=\"headline\">Delhi jail official tests COVID-19 +ve days after 15 inmates found infected</span>\n </a>,\n <a class=\"clickable\" href=\"/en/news/ndrf-evacuates-45-lakh-people-in-wb-odisha-due-to-cyclone-amphan-1589969747382\" onclick=\"ga('send', {'hitType': 'event', 'eventCategory': 'TitleOfNews', 'eventAction': 'clicked', 'eventLabel': 'NDRF%20evacuates%204.5%20lakh%20people%20in%20WB%2C%20Odisha%20due%20to%20Cyclone%20Amphan)' });\" style=\"color:#44444d!important\">\n <span itemprop=\"headline\">NDRF evacuates 4.5 lakh people in WB, Odisha due to Cyclone Amphan</span>\n </a>,\n <a class=\"clickable\" href=\"/en/news/1388-maha-police-personnel-tested-+ve-so-far-12-deaths-due-to-covid19-1589965559775\" onclick=\"ga('send', {'hitType': 'event', 'eventCategory': 'TitleOfNews', 'eventAction': 'clicked', 'eventLabel': '1%2C388%20Maha%20police%20personnel%20tested%20%2Bve%20so%20far%2C%2012%20deaths%20due%20to%20COVID-19)' });\" style=\"color:#44444d!important\">\n <span itemprop=\"headline\">1,388 Maha police personnel tested +ve so far, 12 deaths due to COVID-19</span>\n </a>,\n <a class=\"clickable\" href=\"/en/news/over-25-lakh-samples-tested-for-covid19-so-far-icmr-1589966818919\" onclick=\"ga('send', {'hitType': 'event', 'eventCategory': 'TitleOfNews', 'eventAction': 'clicked', 'eventLabel': 'Over%2025%20lakh%20samples%20tested%20for%20COVID-19%20so%20far%3A%20ICMR)' });\" style=\"color:#44444d!important\">\n <span itemprop=\"headline\">Over 25 lakh samples tested for COVID-19 so far: ICMR</span>\n </a>,\n <a class=\"clickable\" href=\"/en/news/gautam-buddha-nagar-restricts-general-traffic-from-delhi-in-new-guidelines-1589965354023\" onclick=\"ga('send', {'hitType': 'event', 'eventCategory': 'TitleOfNews', 'eventAction': 'clicked', 'eventLabel': 'Gautam%20Buddha%20Nagar%20restricts%20general%20traffic%20from%20Delhi%20in%20new%20guidelines)' });\" style=\"color:#44444d!important\">\n <span itemprop=\"headline\">Gautam Buddha Nagar restricts general traffic from Delhi in new guidelines</span>\n </a>,\n <a class=\"clickable\" href=\"/en/news/kolkata-locals-set-up-free-vegetable-market-for-the-needy-1589970049919\" onclick=\"ga('send', {'hitType': 'event', 'eventCategory': 'TitleOfNews', 'eventAction': 'clicked', 'eventLabel': 'Kolkata%20locals%20set%20up%20free%20vegetable%20market%20for%20the%20needy)' });\" style=\"color:#44444d!important\">\n <span itemprop=\"headline\">Kolkata locals set up free vegetable market for the needy</span>\n </a>,\n <a class=\"clickable\" href=\"/en/news/rollsroyce-to-cut-over-9000-jobs-globally-to-save-$857-mn-amid-covid19-1589970571298\" onclick=\"ga('send', {'hitType': 'event', 'eventCategory': 'TitleOfNews', 'eventAction': 'clicked', 'eventLabel': 'Rolls-Royce%20to%20cut%20over%209%2C000%20jobs%20globally%20to%20save%20%24857%20mn%20amid%20COVID-19)' });\" style=\"color:#44444d!important\">\n <span itemprop=\"headline\">Rolls-Royce to cut over 9,000 jobs globally to save $857 mn amid COVID-19</span>\n </a>,\n <a class=\"clickable\" href=\"/en/news/facebook-launches-shops-to-let-small-businesses-set-up-online-stores-1589967148226\" onclick=\"ga('send', {'hitType': 'event', 'eventCategory': 'TitleOfNews', 'eventAction': 'clicked', 'eventLabel': 'Facebook%20launches%20'Shops'%20to%20let%20small%20businesses%20set%20up%20online%20stores)' });\" style=\"color:#44444d!important\">\n <span itemprop=\"headline\">Facebook launches 'Shops' to let small businesses set up online stores</span>\n </a>,\n <a class=\"clickable\" href=\"/en/news/hardware-is-hard-were-definitely-going-to-have-hiccups-google-ceo-pichai-1589967256784\" onclick=\"ga('send', {'hitType': 'event', 'eventCategory': 'TitleOfNews', 'eventAction': 'clicked', 'eventLabel': 'Hardware%20is%20hard%2C%20we're%20definitely%20going%20to%20have%20hiccups%3A%20Google%20CEO%20Pichai)' });\" style=\"color:#44444d!important\">\n <span itemprop=\"headline\">Hardware is hard, we're definitely going to have hiccups: Google CEO Pichai</span>\n </a>,\n <a class=\"clickable\" href=\"/en/news/khatabook-raises-$60-mn-led-by-facebook-cofounder-eduardos-fund-1589964704458\" onclick=\"ga('send', {'hitType': 'event', 'eventCategory': 'TitleOfNews', 'eventAction': 'clicked', 'eventLabel': 'Khatabook%20raises%20%2460%20mn%20led%20by%20Facebook%20Co-founder%20Eduardo's%20fund)' });\" style=\"color:#44444d!important\">\n <span itemprop=\"headline\">Khatabook raises $60 mn led by Facebook Co-founder Eduardo's fund</span>\n </a>,\n <a class=\"clickable\" href=\"/en/news/sharechat-fires-101-employees-comprising-25-of-its-workforce-1589965313883\" onclick=\"ga('send', {'hitType': 'event', 'eventCategory': 'TitleOfNews', 'eventAction': 'clicked', 'eventLabel': 'ShareChat%20fires%20101%20employees%20comprising%2025%25%20of%20its%20workforce)' });\" style=\"color:#44444d!important\">\n <span itemprop=\"headline\">ShareChat fires 101 employees comprising 25% of its workforce</span>\n </a>,\n <a class=\"clickable\" href=\"/en/news/sc-refuses-to-interfere-with-ngt-order-on-vizag-gas-leak-inquiry-1589965917443\" onclick=\"ga('send', {'hitType': 'event', 'eventCategory': 'TitleOfNews', 'eventAction': 'clicked', 'eventLabel': 'SC%20refuses%20to%20interfere%20with%20NGT%20order%20on%20Vizag%20gas%20leak%20inquiry)' });\" style=\"color:#44444d!important\">\n <span itemprop=\"headline\">SC refuses to interfere with NGT order on Vizag gas leak inquiry</span>\n </a>,\n <a class=\"clickable\" href=\"/en/news/us-family-finds-₹75-cr-in-bags-they-thought-was-trash-return-money-to-police-1589969915480\" onclick=\"ga('send', {'hitType': 'event', 'eventCategory': 'TitleOfNews', 'eventAction': 'clicked', 'eventLabel': 'US%20family%20finds%20%E2%82%B97.5%20cr%20in%20bags%20they%20thought%20was%20trash%3B%20return%20money%20to%20police)' });\" style=\"color:#44444d!important\">\n <span itemprop=\"headline\">US family finds ₹7.5 cr in bags they thought was trash; return money to police</span>\n </a>,\n <a class=\"clickable\" href=\"/en/news/actress-sonalee-kulkarni-announces-engagement-on-birthday-1589969337589\" onclick=\"ga('send', {'hitType': 'event', 'eventCategory': 'TitleOfNews', 'eventAction': 'clicked', 'eventLabel': 'Actress%20Sonalee%20Kulkarni%20announces%20engagement%20on%20birthday)' });\" style=\"color:#44444d!important\">\n <span itemprop=\"headline\">Actress Sonalee Kulkarni announces engagement on birthday</span>\n </a>,\n <a class=\"clickable\" href=\"/en/news/family-is-holding-up-well-but-we-miss-rishi-every-day-brother-randhir-1589971686557\" onclick=\"ga('send', {'hitType': 'event', 'eventCategory': 'TitleOfNews', 'eventAction': 'clicked', 'eventLabel': 'Family%20is%20holding%20up%20well%20but%20we%20miss%20Rishi%20every%20day%3A%20Brother%20Randhir)' });\" style=\"color:#44444d!important\">\n <span itemprop=\"headline\">Family is holding up well but we miss Rishi every day: Brother Randhir</span>\n </a>,\n <a class=\"clickable\" href=\"/en/news/its-exciting-schwarzenegger-on-daughter-katherines-pregnancy-1589967070050\" onclick=\"ga('send', {'hitType': 'event', 'eventCategory': 'TitleOfNews', 'eventAction': 'clicked', 'eventLabel': 'It's%20exciting%3A%20Schwarzenegger%20on%20daughter%20Katherine's%20pregnancy)' });\" style=\"color:#44444d!important\">\n <span itemprop=\"headline\">It's exciting: Schwarzenegger on daughter Katherine's pregnancy</span>\n </a>,\n <a class=\"clickable\" href=\"/en/news/you-dont-have-to-forward-every-message-gajraj-on-rumours-amid-covid19-1589965827158\" onclick=\"ga('send', {'hitType': 'event', 'eventCategory': 'TitleOfNews', 'eventAction': 'clicked', 'eventLabel': 'You%20don't%20have%20to%20forward%20every%20message%3A%20Gajraj%20on%20rumours%20amid%20COVID-19)' });\" style=\"color:#44444d!important\">\n <span itemprop=\"headline\">You don't have to forward every message: Gajraj on rumours amid COVID-19</span>\n </a>,\n <a class=\"clickable\" href=\"/en/news/venezuela-sees-highest-singleday-spike-in-covid19-cases-1589967639213\" onclick=\"ga('send', {'hitType': 'event', 'eventCategory': 'TitleOfNews', 'eventAction': 'clicked', 'eventLabel': 'Venezuela%20sees%20highest%20single-day%20spike%20in%20COVID-19%20cases)' });\" style=\"color:#44444d!important\">\n <span itemprop=\"headline\">Venezuela sees highest single-day spike in COVID-19 cases</span>\n </a>,\n <a class=\"clickable\" href=\"/en/news/google-expects-to-be-at-2030-office-capacity-by-yearend-ceo-pichai-1589968465490\" onclick=\"ga('send', {'hitType': 'event', 'eventCategory': 'TitleOfNews', 'eventAction': 'clicked', 'eventLabel': 'Google%20expects%20to%20be%20at%2020-30%25%20office%20capacity%20by%20year-end%3A%20CEO%20Pichai)' });\" style=\"color:#44444d!important\">\n <span itemprop=\"headline\">Google expects to be at 20-30% office capacity by year-end: CEO Pichai</span>\n </a>,\n <a class=\"clickable\" href=\"/en/news/microsoft-acquires-robotic-process-automation-provider-softomotive-1589967801679\" onclick=\"ga('send', {'hitType': 'event', 'eventCategory': 'TitleOfNews', 'eventAction': 'clicked', 'eventLabel': 'Microsoft%20acquires%20robotic%20process%20automation%20provider%20Softomotive)' });\" style=\"color:#44444d!important\">\n <span itemprop=\"headline\">Microsoft acquires robotic process automation provider Softomotive</span>\n </a>,\n <a class=\"clickable\" href=\"/en/news/bdesh-shifts-over-20-lakh-people-ahead-of-cyclone-amphans-landfall-1589968542967\" onclick=\"ga('send', {'hitType': 'event', 'eventCategory': 'TitleOfNews', 'eventAction': 'clicked', 'eventLabel': 'B'desh%20shifts%20over%2020%20lakh%20people%20ahead%20of%20cyclone%20Amphan's%20landfall)' });\" style=\"color:#44444d!important\">\n <span itemprop=\"headline\">B'desh shifts over 20 lakh people ahead of cyclone Amphan's landfall</span>\n </a>]"
     },
     "metadata": {},
     "execution_count": 146
    }
   ],
   "source": [
    "link=t1.find_all('a','href', class_=\"clickable\")\n",
    "link"
   ]
  },
  {
   "cell_type": "code",
   "execution_count": 141,
   "metadata": {},
   "outputs": [
    {
     "output_type": "execute_result",
     "data": {
      "text/plain": "25"
     },
     "metadata": {},
     "execution_count": 141
    }
   ],
   "source": [
    "description=t1.find_all('div',itemprop=\"articleBody\")\n",
    "len(description)"
   ]
  },
  {
   "cell_type": "code",
   "execution_count": 147,
   "metadata": {},
   "outputs": [
    {
     "output_type": "execute_result",
     "data": {
      "text/plain": "      DATE      TIME                                               LINK  \\\n0   20 May  04:00 pm  /en/news/biggest-oneday-jump-in-covid19-cases-...   \n1   20 May  03:27 pm  /en/news/cyclone-amphan-to-hit-west-bengal-fro...   \n2   20 May  04:05 pm  /en/news/govt-grants-exemption-from-lockdown-m...   \n3   20 May  04:25 pm  /en/news/south-korean-students-return-to-schoo...   \n4   20 May  03:52 pm  /en/news/delhi-jail-official-tests-covid19-+ve...   \n5   20 May  03:45 pm  /en/news/ndrf-evacuates-45-lakh-people-in-wb-o...   \n6   20 May  02:35 pm  /en/news/1388-maha-police-personnel-tested-+ve...   \n7   20 May  02:56 pm  /en/news/over-25-lakh-samples-tested-for-covid...   \n8   20 May  02:32 pm  /en/news/gautam-buddha-nagar-restricts-general...   \n9   20 May  03:50 pm  /en/news/kolkata-locals-set-up-free-vegetable-...   \n10  20 May  03:59 pm  /en/news/rollsroyce-to-cut-over-9000-jobs-glob...   \n11  20 May  03:02 pm  /en/news/facebook-launches-shops-to-let-small-...   \n12  20 May  03:04 pm  /en/news/hardware-is-hard-were-definitely-goin...   \n13  20 May  02:21 pm  /en/news/khatabook-raises-$60-mn-led-by-facebo...   \n14  20 May  02:31 pm  /en/news/sharechat-fires-101-employees-compris...   \n15  20 May  02:41 pm  /en/news/sc-refuses-to-interfere-with-ngt-orde...   \n16  20 May  03:48 pm  /en/news/us-family-finds-₹75-cr-in-bags-they-t...   \n17  20 May  03:38 pm  /en/news/actress-sonalee-kulkarni-announces-en...   \n18  20 May  04:18 pm  /en/news/family-is-holding-up-well-but-we-miss...   \n19  20 May  03:01 pm  /en/news/its-exciting-schwarzenegger-on-daught...   \n20  20 May  02:40 pm  /en/news/you-dont-have-to-forward-every-messag...   \n21  20 May  03:10 pm  /en/news/venezuela-sees-highest-singleday-spik...   \n22  20 May  03:24 pm  /en/news/google-expects-to-be-at-2030-office-c...   \n23  20 May  03:13 pm  /en/news/microsoft-acquires-robotic-process-au...   \n24  20 May  03:25 pm  /en/news/bdesh-shifts-over-20-lakh-people-ahea...   \n\n                                                TITLE  \\\n0   Biggest one-day jump in COVID-19 cases recorde...   \n1   Cyclone Amphan to hit West Bengal from 4 pm on...   \n2   Govt grants exemption from lockdown measures t...   \n3   South Korean students return to school after m...   \n4   Delhi jail official tests COVID-19 +ve days af...   \n5   NDRF evacuates 4.5 lakh people in WB, Odisha d...   \n6   1,388 Maha police personnel tested +ve so far,...   \n7   Over 25 lakh samples tested for COVID-19 so fa...   \n8   Gautam Buddha Nagar restricts general traffic ...   \n9   Kolkata locals set up free vegetable market fo...   \n10  Rolls-Royce to cut over 9,000 jobs globally to...   \n11  Facebook launches 'Shops' to let small busines...   \n12  Hardware is hard, we're definitely going to ha...   \n13  Khatabook raises $60 mn led by Facebook Co-fou...   \n14  ShareChat fires 101 employees comprising 25% o...   \n15  SC refuses to interfere with NGT order on Viza...   \n16  US family finds ₹7.5 cr in bags they thought w...   \n17  Actress Sonalee Kulkarni announces engagement ...   \n18  Family is holding up well but we miss Rishi ev...   \n19  It's exciting: Schwarzenegger on daughter Kath...   \n20  You don't have to forward every message: Gajra...   \n21  Venezuela sees highest single-day spike in COV...   \n22  Google expects to be at 20-30% office capacity...   \n23  Microsoft acquires robotic process automation ...   \n24  B'desh shifts over 20 lakh people ahead of cyc...   \n\n                                          DESCRIPTION  \n0   As many as 534 coronavirus cases were confirme...  \n1   The India Meteorological Department (IMD) has ...  \n2   The Home Ministry has granted exemption from l...  \n3   South Korean high schools on Wednesday reopene...  \n4   The Assistant Superintendent of the Rohini Jai...  \n5   As many as 4.5 lakh people were evacuated in W...  \n6   A total of 1,388 Maharashtra police personnel ...  \n7   The Indian Council of Medical Research (ICMR) ...  \n8   Gautam Buddha Nagar district administration on...  \n9   Volunteers in Kolkata's Jadavpur neighbourhood...  \n10  Engine maker Rolls-Royce has announced it'll b...  \n11  Facebook has launched a new feature called 'Sh...  \n12  Google and Alphabet's CEO Sundar Pichai in an ...  \n13  Bengaluru based digital ledger app Khatabook h...  \n14  Twitter-backed social networking startup Share...  \n15  The Supreme Court on Tuesday declined to inter...  \n16  A family in Virginia, US, found nearly $1 mill...  \n17  Actress Sonalee Kulkarni announced on Monday, ...  \n18  Days after the demise of Rishi Kapoor, his bro...  \n19  Commenting on his daughter Katherine Schwarzen...  \n20  Actor Gajraj Rao said that he has asked his fr...  \n21  Venezuela imposed curfews in few towns along i...  \n22  Google CEO Sundar Pichai said the company's of...  \n23  Microsoft announced the acquisition of robotic...  \n24  Bangladesh evacuated over 20 lakh people to st...  ",
      "text/html": "<div>\n<style scoped>\n    .dataframe tbody tr th:only-of-type {\n        vertical-align: middle;\n    }\n\n    .dataframe tbody tr th {\n        vertical-align: top;\n    }\n\n    .dataframe thead th {\n        text-align: right;\n    }\n</style>\n<table border=\"1\" class=\"dataframe\">\n  <thead>\n    <tr style=\"text-align: right;\">\n      <th></th>\n      <th>DATE</th>\n      <th>TIME</th>\n      <th>LINK</th>\n      <th>TITLE</th>\n      <th>DESCRIPTION</th>\n    </tr>\n  </thead>\n  <tbody>\n    <tr>\n      <td>0</td>\n      <td>20 May</td>\n      <td>04:00 pm</td>\n      <td>/en/news/biggest-oneday-jump-in-covid19-cases-...</td>\n      <td>Biggest one-day jump in COVID-19 cases recorde...</td>\n      <td>As many as 534 coronavirus cases were confirme...</td>\n    </tr>\n    <tr>\n      <td>1</td>\n      <td>20 May</td>\n      <td>03:27 pm</td>\n      <td>/en/news/cyclone-amphan-to-hit-west-bengal-fro...</td>\n      <td>Cyclone Amphan to hit West Bengal from 4 pm on...</td>\n      <td>The India Meteorological Department (IMD) has ...</td>\n    </tr>\n    <tr>\n      <td>2</td>\n      <td>20 May</td>\n      <td>04:05 pm</td>\n      <td>/en/news/govt-grants-exemption-from-lockdown-m...</td>\n      <td>Govt grants exemption from lockdown measures t...</td>\n      <td>The Home Ministry has granted exemption from l...</td>\n    </tr>\n    <tr>\n      <td>3</td>\n      <td>20 May</td>\n      <td>04:25 pm</td>\n      <td>/en/news/south-korean-students-return-to-schoo...</td>\n      <td>South Korean students return to school after m...</td>\n      <td>South Korean high schools on Wednesday reopene...</td>\n    </tr>\n    <tr>\n      <td>4</td>\n      <td>20 May</td>\n      <td>03:52 pm</td>\n      <td>/en/news/delhi-jail-official-tests-covid19-+ve...</td>\n      <td>Delhi jail official tests COVID-19 +ve days af...</td>\n      <td>The Assistant Superintendent of the Rohini Jai...</td>\n    </tr>\n    <tr>\n      <td>5</td>\n      <td>20 May</td>\n      <td>03:45 pm</td>\n      <td>/en/news/ndrf-evacuates-45-lakh-people-in-wb-o...</td>\n      <td>NDRF evacuates 4.5 lakh people in WB, Odisha d...</td>\n      <td>As many as 4.5 lakh people were evacuated in W...</td>\n    </tr>\n    <tr>\n      <td>6</td>\n      <td>20 May</td>\n      <td>02:35 pm</td>\n      <td>/en/news/1388-maha-police-personnel-tested-+ve...</td>\n      <td>1,388 Maha police personnel tested +ve so far,...</td>\n      <td>A total of 1,388 Maharashtra police personnel ...</td>\n    </tr>\n    <tr>\n      <td>7</td>\n      <td>20 May</td>\n      <td>02:56 pm</td>\n      <td>/en/news/over-25-lakh-samples-tested-for-covid...</td>\n      <td>Over 25 lakh samples tested for COVID-19 so fa...</td>\n      <td>The Indian Council of Medical Research (ICMR) ...</td>\n    </tr>\n    <tr>\n      <td>8</td>\n      <td>20 May</td>\n      <td>02:32 pm</td>\n      <td>/en/news/gautam-buddha-nagar-restricts-general...</td>\n      <td>Gautam Buddha Nagar restricts general traffic ...</td>\n      <td>Gautam Buddha Nagar district administration on...</td>\n    </tr>\n    <tr>\n      <td>9</td>\n      <td>20 May</td>\n      <td>03:50 pm</td>\n      <td>/en/news/kolkata-locals-set-up-free-vegetable-...</td>\n      <td>Kolkata locals set up free vegetable market fo...</td>\n      <td>Volunteers in Kolkata's Jadavpur neighbourhood...</td>\n    </tr>\n    <tr>\n      <td>10</td>\n      <td>20 May</td>\n      <td>03:59 pm</td>\n      <td>/en/news/rollsroyce-to-cut-over-9000-jobs-glob...</td>\n      <td>Rolls-Royce to cut over 9,000 jobs globally to...</td>\n      <td>Engine maker Rolls-Royce has announced it'll b...</td>\n    </tr>\n    <tr>\n      <td>11</td>\n      <td>20 May</td>\n      <td>03:02 pm</td>\n      <td>/en/news/facebook-launches-shops-to-let-small-...</td>\n      <td>Facebook launches 'Shops' to let small busines...</td>\n      <td>Facebook has launched a new feature called 'Sh...</td>\n    </tr>\n    <tr>\n      <td>12</td>\n      <td>20 May</td>\n      <td>03:04 pm</td>\n      <td>/en/news/hardware-is-hard-were-definitely-goin...</td>\n      <td>Hardware is hard, we're definitely going to ha...</td>\n      <td>Google and Alphabet's CEO Sundar Pichai in an ...</td>\n    </tr>\n    <tr>\n      <td>13</td>\n      <td>20 May</td>\n      <td>02:21 pm</td>\n      <td>/en/news/khatabook-raises-$60-mn-led-by-facebo...</td>\n      <td>Khatabook raises $60 mn led by Facebook Co-fou...</td>\n      <td>Bengaluru based digital ledger app Khatabook h...</td>\n    </tr>\n    <tr>\n      <td>14</td>\n      <td>20 May</td>\n      <td>02:31 pm</td>\n      <td>/en/news/sharechat-fires-101-employees-compris...</td>\n      <td>ShareChat fires 101 employees comprising 25% o...</td>\n      <td>Twitter-backed social networking startup Share...</td>\n    </tr>\n    <tr>\n      <td>15</td>\n      <td>20 May</td>\n      <td>02:41 pm</td>\n      <td>/en/news/sc-refuses-to-interfere-with-ngt-orde...</td>\n      <td>SC refuses to interfere with NGT order on Viza...</td>\n      <td>The Supreme Court on Tuesday declined to inter...</td>\n    </tr>\n    <tr>\n      <td>16</td>\n      <td>20 May</td>\n      <td>03:48 pm</td>\n      <td>/en/news/us-family-finds-₹75-cr-in-bags-they-t...</td>\n      <td>US family finds ₹7.5 cr in bags they thought w...</td>\n      <td>A family in Virginia, US, found nearly $1 mill...</td>\n    </tr>\n    <tr>\n      <td>17</td>\n      <td>20 May</td>\n      <td>03:38 pm</td>\n      <td>/en/news/actress-sonalee-kulkarni-announces-en...</td>\n      <td>Actress Sonalee Kulkarni announces engagement ...</td>\n      <td>Actress Sonalee Kulkarni announced on Monday, ...</td>\n    </tr>\n    <tr>\n      <td>18</td>\n      <td>20 May</td>\n      <td>04:18 pm</td>\n      <td>/en/news/family-is-holding-up-well-but-we-miss...</td>\n      <td>Family is holding up well but we miss Rishi ev...</td>\n      <td>Days after the demise of Rishi Kapoor, his bro...</td>\n    </tr>\n    <tr>\n      <td>19</td>\n      <td>20 May</td>\n      <td>03:01 pm</td>\n      <td>/en/news/its-exciting-schwarzenegger-on-daught...</td>\n      <td>It's exciting: Schwarzenegger on daughter Kath...</td>\n      <td>Commenting on his daughter Katherine Schwarzen...</td>\n    </tr>\n    <tr>\n      <td>20</td>\n      <td>20 May</td>\n      <td>02:40 pm</td>\n      <td>/en/news/you-dont-have-to-forward-every-messag...</td>\n      <td>You don't have to forward every message: Gajra...</td>\n      <td>Actor Gajraj Rao said that he has asked his fr...</td>\n    </tr>\n    <tr>\n      <td>21</td>\n      <td>20 May</td>\n      <td>03:10 pm</td>\n      <td>/en/news/venezuela-sees-highest-singleday-spik...</td>\n      <td>Venezuela sees highest single-day spike in COV...</td>\n      <td>Venezuela imposed curfews in few towns along i...</td>\n    </tr>\n    <tr>\n      <td>22</td>\n      <td>20 May</td>\n      <td>03:24 pm</td>\n      <td>/en/news/google-expects-to-be-at-2030-office-c...</td>\n      <td>Google expects to be at 20-30% office capacity...</td>\n      <td>Google CEO Sundar Pichai said the company's of...</td>\n    </tr>\n    <tr>\n      <td>23</td>\n      <td>20 May</td>\n      <td>03:13 pm</td>\n      <td>/en/news/microsoft-acquires-robotic-process-au...</td>\n      <td>Microsoft acquires robotic process automation ...</td>\n      <td>Microsoft announced the acquisition of robotic...</td>\n    </tr>\n    <tr>\n      <td>24</td>\n      <td>20 May</td>\n      <td>03:25 pm</td>\n      <td>/en/news/bdesh-shifts-over-20-lakh-people-ahea...</td>\n      <td>B'desh shifts over 20 lakh people ahead of cyc...</td>\n      <td>Bangladesh evacuated over 20 lakh people to st...</td>\n    </tr>\n  </tbody>\n</table>\n</div>"
     },
     "metadata": {},
     "execution_count": 147
    }
   ],
   "source": [
    "date, time,link, title, description\n",
    "\n",
    "DATE=[]\n",
    "TIME=[]\n",
    "LINK=[]\n",
    "TITLE=[]\n",
    "DESCRIPTION=[]\n",
    "for i in range(len(date)):\n",
    "    DATE.append(date[i].get_text())\n",
    "    TIME.append(time[i].get_text())\n",
    "    LINK.append(link[i].get('href'))\n",
    "    TITLE.append(title[i].get_text())\n",
    "    DESCRIPTION.append(description[i].get_text())\n",
    "\n",
    "data = dict(DATE=DATE, TIME=TIME, LINK=LINK, TITLE=TITLE, DESCRIPTION=DESCRIPTION)\n",
    "df=pd.DataFrame(data)\n",
    "df"
   ]
  },
  {
   "cell_type": "code",
   "execution_count": 150,
   "metadata": {},
   "outputs": [],
   "source": [
    "df.to_csv('news_scrap.csv')"
   ]
  },
  {
   "cell_type": "code",
   "execution_count": null,
   "metadata": {},
   "outputs": [],
   "source": []
  }
 ],
 "metadata": {
  "kernelspec": {
   "display_name": "Python 3",
   "language": "python",
   "name": "python3"
  },
  "language_info": {
   "codemirror_mode": {
    "name": "ipython",
    "version": 3
   },
   "file_extension": ".py",
   "mimetype": "text/x-python",
   "name": "python",
   "nbconvert_exporter": "python",
   "pygments_lexer": "ipython3",
   "version": "3.7.4-final"
  }
 },
 "nbformat": 4,
 "nbformat_minor": 2
}